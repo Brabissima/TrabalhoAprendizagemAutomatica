{
 "cells": [
  {
   "cell_type": "markdown",
   "metadata": {},
   "source": [
    "# Detectando Doença de Parkinson\n",
    "## Uma Comparação de Modelos de Aprendizagem de Máquina\n",
    "\n",
    "---\n",
    "\n",
    "\n",
    "## Problemática\n",
    "O atual cenário político-social mundial tem se mostrado fortemente impactado pela **disseminação de Fake News**, as quais vem ganhando bastante **notoriedade com o crescente uso de redes sociais** e divulgação das mesmas nesses meios.\n",
    "\n",
    "Visto que as fakes news **acabam servindo como um meio de alienar a população**, o presente notebook possui o objetivo de **elaborar um modelo que possa classificar se determinada notícia é verdadeira ou falsa**, consistindo **ao todo em 4009 registros de notícias**, sendo 2137 notícias falsas e 1872 notícias verdadeiras.\n",
    "\n",
    "Aqui utilizaremos os seguintes algoritmos de aprendizagem de máquina para elaboração do nosso modelo:\n",
    "> - Regressão Logística\n",
    "> - KNN\n",
    "> - Análise Discriminante Gaussiano\n",
    "> - Árvore de Decisão\n",
    "> - SVM\n",
    "> - Random Forest\n",
    "> - Processo Gaussiano\n",
    "\n",
    "\n",
    "## Fonte dos Dados\n",
    "O dataset utilizado para este problema foi retirado do [Kaggle]( https://www.kaggle.com/jruvika/fake-news-detection), fruto de um web crawler de diferentes fontes americanas, consiste em **4009 registros de notícias**, sendo **2137 notícias falsas** e **1872 notícias verdadeiras**.\n",
    "\n",
    "## Sumário\n",
    "#### 1. Importações\n",
    "#### 2. Leitura dos Dados\n",
    "#### 3. Redução de Dimensionalidade dos Dados\n",
    "#### 4. Visualização dos Dados\n",
    "#### 5. Avaliação dos Modelos"
   ]
  },
  {
   "cell_type": "markdown",
   "metadata": {},
   "source": [
    "# 1. Importações"
   ]
  },
  {
   "cell_type": "code",
   "execution_count": 1,
   "metadata": {
    "scrolled": true
   },
   "outputs": [
    {
     "name": "stderr",
     "output_type": "stream",
     "text": [
      "In C:\\Users\\edvar.filho\\AppData\\Local\\Continuum\\anaconda3\\lib\\site-packages\\matplotlib\\mpl-data\\stylelib\\_classic_test.mplstyle: \n",
      "The text.latex.preview rcparam was deprecated in Matplotlib 3.3 and will be removed two minor releases later.\n",
      "In C:\\Users\\edvar.filho\\AppData\\Local\\Continuum\\anaconda3\\lib\\site-packages\\matplotlib\\mpl-data\\stylelib\\_classic_test.mplstyle: \n",
      "The mathtext.fallback_to_cm rcparam was deprecated in Matplotlib 3.3 and will be removed two minor releases later.\n",
      "In C:\\Users\\edvar.filho\\AppData\\Local\\Continuum\\anaconda3\\lib\\site-packages\\matplotlib\\mpl-data\\stylelib\\_classic_test.mplstyle: Support for setting the 'mathtext.fallback_to_cm' rcParam is deprecated since 3.3 and will be removed two minor releases later; use 'mathtext.fallback : 'cm' instead.\n",
      "In C:\\Users\\edvar.filho\\AppData\\Local\\Continuum\\anaconda3\\lib\\site-packages\\matplotlib\\mpl-data\\stylelib\\_classic_test.mplstyle: \n",
      "The validate_bool_maybe_none function was deprecated in Matplotlib 3.3 and will be removed two minor releases later.\n",
      "In C:\\Users\\edvar.filho\\AppData\\Local\\Continuum\\anaconda3\\lib\\site-packages\\matplotlib\\mpl-data\\stylelib\\_classic_test.mplstyle: \n",
      "The savefig.jpeg_quality rcparam was deprecated in Matplotlib 3.3 and will be removed two minor releases later.\n",
      "In C:\\Users\\edvar.filho\\AppData\\Local\\Continuum\\anaconda3\\lib\\site-packages\\matplotlib\\mpl-data\\stylelib\\_classic_test.mplstyle: \n",
      "The keymap.all_axes rcparam was deprecated in Matplotlib 3.3 and will be removed two minor releases later.\n",
      "In C:\\Users\\edvar.filho\\AppData\\Local\\Continuum\\anaconda3\\lib\\site-packages\\matplotlib\\mpl-data\\stylelib\\_classic_test.mplstyle: \n",
      "The animation.avconv_path rcparam was deprecated in Matplotlib 3.3 and will be removed two minor releases later.\n",
      "In C:\\Users\\edvar.filho\\AppData\\Local\\Continuum\\anaconda3\\lib\\site-packages\\matplotlib\\mpl-data\\stylelib\\_classic_test.mplstyle: \n",
      "The animation.avconv_args rcparam was deprecated in Matplotlib 3.3 and will be removed two minor releases later.\n"
     ]
    }
   ],
   "source": [
    "import numpy as np\n",
    "import pandas as pd\n",
    "import warnings\n",
    "import random\n",
    "import seaborn as sb\n",
    "import matplotlib.pyplot as plt\n",
    "from statistics import mean\n",
    "from math import log, pi, sqrt\n",
    "%matplotlib inline\n",
    "\n",
    "from scipy.linalg import svd \n",
    "from sklearn import linear_model, datasets, svm, metrics\n",
    "from scipy.stats import multivariate_normal\n",
    "from sklearn.metrics import accuracy_score, classification_report\n",
    "from sklearn.model_selection import GridSearchCV\n",
    "from sklearn.metrics import confusion_matrix\n",
    "from mlxtend.plotting import plot_confusion_matrix\n",
    "\n",
    "from sklearn.svm import SVC\n",
    "from sklearn.tree import DecisionTreeClassifier\n",
    "from sklearn.neighbors import DistanceMetric, KNeighborsClassifier\n",
    "from sklearn.ensemble import RandomForestClassifier\n",
    "from sklearn.gaussian_process import GaussianProcessClassifier\n",
    "from sklearn.gaussian_process.kernels import RBF, Matern, RationalQuadratic, ExpSineSquared\n",
    "from modelos import distance_euclidian, distance_manhattan, fitAD, fitAGD, fitRF, fitRL, fitSVM, predict1AGD, predict1KNN, predictAD, predictAGD, predictKNN, predictRF, predictRL, predictSVM, sigmoide, fitGP, predictGP, train_testSplit \n",
    "warnings.filterwarnings(\"ignore\")\n",
    "np.random.seed(12345)"
   ]
  },
  {
   "cell_type": "markdown",
   "metadata": {},
   "source": [
    "# 2. Leitura dos Dados"
   ]
  },
  {
   "cell_type": "code",
   "execution_count": 2,
   "metadata": {},
   "outputs": [
    {
     "data": {
      "text/html": [
       "<div>\n",
       "<style scoped>\n",
       "    .dataframe tbody tr th:only-of-type {\n",
       "        vertical-align: middle;\n",
       "    }\n",
       "\n",
       "    .dataframe tbody tr th {\n",
       "        vertical-align: top;\n",
       "    }\n",
       "\n",
       "    .dataframe thead th {\n",
       "        text-align: right;\n",
       "    }\n",
       "</style>\n",
       "<table border=\"1\" class=\"dataframe\">\n",
       "  <thead>\n",
       "    <tr style=\"text-align: right;\">\n",
       "      <th></th>\n",
       "      <th>id</th>\n",
       "      <th>gender</th>\n",
       "      <th>PPE</th>\n",
       "      <th>DFA</th>\n",
       "      <th>RPDE</th>\n",
       "      <th>numPulses</th>\n",
       "      <th>numPeriodsPulses</th>\n",
       "      <th>meanPeriodPulses</th>\n",
       "      <th>stdDevPeriodPulses</th>\n",
       "      <th>locPctJitter</th>\n",
       "      <th>...</th>\n",
       "      <th>tqwt_kurtosisValue_dec_28</th>\n",
       "      <th>tqwt_kurtosisValue_dec_29</th>\n",
       "      <th>tqwt_kurtosisValue_dec_30</th>\n",
       "      <th>tqwt_kurtosisValue_dec_31</th>\n",
       "      <th>tqwt_kurtosisValue_dec_32</th>\n",
       "      <th>tqwt_kurtosisValue_dec_33</th>\n",
       "      <th>tqwt_kurtosisValue_dec_34</th>\n",
       "      <th>tqwt_kurtosisValue_dec_35</th>\n",
       "      <th>tqwt_kurtosisValue_dec_36</th>\n",
       "      <th>class</th>\n",
       "    </tr>\n",
       "  </thead>\n",
       "  <tbody>\n",
       "    <tr>\n",
       "      <td>0</td>\n",
       "      <td>0.0</td>\n",
       "      <td>1.0</td>\n",
       "      <td>0.85247</td>\n",
       "      <td>0.71826</td>\n",
       "      <td>0.57227</td>\n",
       "      <td>240.0</td>\n",
       "      <td>239.0</td>\n",
       "      <td>0.008064</td>\n",
       "      <td>0.000087</td>\n",
       "      <td>0.00218</td>\n",
       "      <td>...</td>\n",
       "      <td>1.5620</td>\n",
       "      <td>2.6445</td>\n",
       "      <td>3.8686</td>\n",
       "      <td>4.2105</td>\n",
       "      <td>5.1221</td>\n",
       "      <td>4.4625</td>\n",
       "      <td>2.6202</td>\n",
       "      <td>3.0004</td>\n",
       "      <td>18.9405</td>\n",
       "      <td>1.0</td>\n",
       "    </tr>\n",
       "    <tr>\n",
       "      <td>1</td>\n",
       "      <td>0.0</td>\n",
       "      <td>1.0</td>\n",
       "      <td>0.76686</td>\n",
       "      <td>0.69481</td>\n",
       "      <td>0.53966</td>\n",
       "      <td>234.0</td>\n",
       "      <td>233.0</td>\n",
       "      <td>0.008258</td>\n",
       "      <td>0.000073</td>\n",
       "      <td>0.00195</td>\n",
       "      <td>...</td>\n",
       "      <td>1.5589</td>\n",
       "      <td>3.6107</td>\n",
       "      <td>23.5155</td>\n",
       "      <td>14.1962</td>\n",
       "      <td>11.0261</td>\n",
       "      <td>9.5082</td>\n",
       "      <td>6.5245</td>\n",
       "      <td>6.3431</td>\n",
       "      <td>45.1780</td>\n",
       "      <td>1.0</td>\n",
       "    </tr>\n",
       "    <tr>\n",
       "      <td>2</td>\n",
       "      <td>0.0</td>\n",
       "      <td>1.0</td>\n",
       "      <td>0.85083</td>\n",
       "      <td>0.67604</td>\n",
       "      <td>0.58982</td>\n",
       "      <td>232.0</td>\n",
       "      <td>231.0</td>\n",
       "      <td>0.008340</td>\n",
       "      <td>0.000060</td>\n",
       "      <td>0.00176</td>\n",
       "      <td>...</td>\n",
       "      <td>1.5643</td>\n",
       "      <td>2.3308</td>\n",
       "      <td>9.4959</td>\n",
       "      <td>10.7458</td>\n",
       "      <td>11.0177</td>\n",
       "      <td>4.8066</td>\n",
       "      <td>2.9199</td>\n",
       "      <td>3.1495</td>\n",
       "      <td>4.7666</td>\n",
       "      <td>1.0</td>\n",
       "    </tr>\n",
       "    <tr>\n",
       "      <td>3</td>\n",
       "      <td>1.0</td>\n",
       "      <td>0.0</td>\n",
       "      <td>0.41121</td>\n",
       "      <td>0.79672</td>\n",
       "      <td>0.59257</td>\n",
       "      <td>178.0</td>\n",
       "      <td>177.0</td>\n",
       "      <td>0.010858</td>\n",
       "      <td>0.000183</td>\n",
       "      <td>0.00419</td>\n",
       "      <td>...</td>\n",
       "      <td>3.7805</td>\n",
       "      <td>3.5664</td>\n",
       "      <td>5.2558</td>\n",
       "      <td>14.0403</td>\n",
       "      <td>4.2235</td>\n",
       "      <td>4.6857</td>\n",
       "      <td>4.8460</td>\n",
       "      <td>6.2650</td>\n",
       "      <td>4.0603</td>\n",
       "      <td>1.0</td>\n",
       "    </tr>\n",
       "    <tr>\n",
       "      <td>4</td>\n",
       "      <td>1.0</td>\n",
       "      <td>0.0</td>\n",
       "      <td>0.32790</td>\n",
       "      <td>0.79782</td>\n",
       "      <td>0.53028</td>\n",
       "      <td>236.0</td>\n",
       "      <td>235.0</td>\n",
       "      <td>0.008162</td>\n",
       "      <td>0.002669</td>\n",
       "      <td>0.00535</td>\n",
       "      <td>...</td>\n",
       "      <td>6.1727</td>\n",
       "      <td>5.8416</td>\n",
       "      <td>6.0805</td>\n",
       "      <td>5.7621</td>\n",
       "      <td>7.7817</td>\n",
       "      <td>11.6891</td>\n",
       "      <td>8.2103</td>\n",
       "      <td>5.0559</td>\n",
       "      <td>6.1164</td>\n",
       "      <td>1.0</td>\n",
       "    </tr>\n",
       "  </tbody>\n",
       "</table>\n",
       "<p>5 rows × 755 columns</p>\n",
       "</div>"
      ],
      "text/plain": [
       "0   id  gender      PPE      DFA     RPDE  numPulses  numPeriodsPulses  \\\n",
       "0  0.0     1.0  0.85247  0.71826  0.57227      240.0             239.0   \n",
       "1  0.0     1.0  0.76686  0.69481  0.53966      234.0             233.0   \n",
       "2  0.0     1.0  0.85083  0.67604  0.58982      232.0             231.0   \n",
       "3  1.0     0.0  0.41121  0.79672  0.59257      178.0             177.0   \n",
       "4  1.0     0.0  0.32790  0.79782  0.53028      236.0             235.0   \n",
       "\n",
       "0  meanPeriodPulses  stdDevPeriodPulses  locPctJitter  ...  \\\n",
       "0          0.008064            0.000087       0.00218  ...   \n",
       "1          0.008258            0.000073       0.00195  ...   \n",
       "2          0.008340            0.000060       0.00176  ...   \n",
       "3          0.010858            0.000183       0.00419  ...   \n",
       "4          0.008162            0.002669       0.00535  ...   \n",
       "\n",
       "0  tqwt_kurtosisValue_dec_28  tqwt_kurtosisValue_dec_29  \\\n",
       "0                     1.5620                     2.6445   \n",
       "1                     1.5589                     3.6107   \n",
       "2                     1.5643                     2.3308   \n",
       "3                     3.7805                     3.5664   \n",
       "4                     6.1727                     5.8416   \n",
       "\n",
       "0  tqwt_kurtosisValue_dec_30  tqwt_kurtosisValue_dec_31  \\\n",
       "0                     3.8686                     4.2105   \n",
       "1                    23.5155                    14.1962   \n",
       "2                     9.4959                    10.7458   \n",
       "3                     5.2558                    14.0403   \n",
       "4                     6.0805                     5.7621   \n",
       "\n",
       "0  tqwt_kurtosisValue_dec_32  tqwt_kurtosisValue_dec_33  \\\n",
       "0                     5.1221                     4.4625   \n",
       "1                    11.0261                     9.5082   \n",
       "2                    11.0177                     4.8066   \n",
       "3                     4.2235                     4.6857   \n",
       "4                     7.7817                    11.6891   \n",
       "\n",
       "0  tqwt_kurtosisValue_dec_34  tqwt_kurtosisValue_dec_35  \\\n",
       "0                     2.6202                     3.0004   \n",
       "1                     6.5245                     6.3431   \n",
       "2                     2.9199                     3.1495   \n",
       "3                     4.8460                     6.2650   \n",
       "4                     8.2103                     5.0559   \n",
       "\n",
       "0  tqwt_kurtosisValue_dec_36  class  \n",
       "0                    18.9405    1.0  \n",
       "1                    45.1780    1.0  \n",
       "2                     4.7666    1.0  \n",
       "3                     4.0603    1.0  \n",
       "4                     6.1164    1.0  \n",
       "\n",
       "[5 rows x 755 columns]"
      ]
     },
     "execution_count": 2,
     "metadata": {},
     "output_type": "execute_result"
    }
   ],
   "source": [
    "dataset = pd.read_csv(\"data.csv\")\n",
    "header = dataset.loc[0]\n",
    "dataset = dataset.drop([0])\n",
    "dataset.columns = header\n",
    "dataset.index = range(0, dataset.shape[0])\n",
    "for col in dataset.columns:\n",
    "    dataset[col] = dataset[col].astype(float)\n",
    "data = dataset\n",
    "data.head()"
   ]
  },
  {
   "cell_type": "markdown",
   "metadata": {},
   "source": [
    "# 3. Redução da Dimensionalidade"
   ]
  },
  {
   "cell_type": "code",
   "execution_count": 3,
   "metadata": {},
   "outputs": [],
   "source": [
    "def fisher_score(x, y):\n",
    "    mean = np.mean(x, axis=0)\n",
    "    classes = np.unique(y)\n",
    "    sS = 0\n",
    "    sD = 0\n",
    "    Nk = []\n",
    "    \n",
    "    meanD = []\n",
    "    varD = []\n",
    "    \n",
    "    for k in classes:\n",
    "        elements = []\n",
    "        s = 0\n",
    "        for i in range(0, len(y)):\n",
    "            if(y[i] == k):\n",
    "                s += 1\n",
    "                elements.append(x[i])\n",
    "        meanD.append(np.mean(elements, axis=0))\n",
    "        varD.append(np.var(elements, axis=0))\n",
    "        Nk.append(s)\n",
    "    \n",
    "    for k in range(0, len(classes)):\n",
    "        sS += (Nk[k] * ((meanD[k] - mean)**2))\n",
    "        sD += (Nk[k] * varD[k])\n",
    "    return sS/sD\n",
    "\n",
    "def compute(x):\n",
    "    mean = np.mean(x, axis = 0)\n",
    "    cov = np.cov(np.transpose(x))\n",
    "\n",
    "    U, S, V = svd(cov)\n",
    "    S = np.diag(S)\n",
    "    M = U @ S @ V\n",
    "    P = np.transpose(U)\n",
    "    return {'S': S, 'U': U, 'V': V, 'M': M, 'P': P}\n",
    "\n",
    "def transform(x, rateVariance):\n",
    "    pca_result = compute(x)\n",
    "    \n",
    "    S = pca_result['S']\n",
    "    P = pca_result['P']\n",
    "    \n",
    "    matrizTransform = []\n",
    "    varianciaExplicadaTot = 0\n",
    "    varianceExpl = 0\n",
    "    autoValores = []\n",
    "    for i in range(0, S.shape[0]):\n",
    "        varianciaExplicadaTot += S[i,i]\n",
    "        autoValores.append(S[i,i])\n",
    "    varianceExpl = rateVariance *varianciaExplicadaTot\n",
    "\n",
    "    autoValOrdenados = np.sort(autoValores)\n",
    "    autoValOrdenados = autoValOrdenados[::-1]\n",
    "    \n",
    "    varianceAtual = 0\n",
    "    i = 0\n",
    "    while(varianceAtual<=varianceExpl and i<autoValOrdenados.shape[0]):\n",
    "        for j in range (0, len(autoValores)):\n",
    "            if(autoValOrdenados[i]==autoValores[j]):\n",
    "                matrizTransform.append(P[j])\n",
    "        varianceAtual += autoValOrdenados[i]\n",
    "        i += 1\n",
    "    return {'P': matrizTransform, 'Z':np.transpose(np.dot(matrizTransform, np.transpose(x)))}"
   ]
  },
  {
   "cell_type": "code",
   "execution_count": 6,
   "metadata": {},
   "outputs": [],
   "source": [
    "resultPCA = transform(df.values[:,0:-1], 0.9)"
   ]
  },
  {
   "cell_type": "code",
   "execution_count": 7,
   "metadata": {},
   "outputs": [],
   "source": [
    "dataPCA = np.hstack((resultPCA['Z'], df.values[:,-1][:,None]))\n",
    "matrizPCA = resultPCA['P']"
   ]
  },
  {
   "cell_type": "code",
   "execution_count": 8,
   "metadata": {},
   "outputs": [
    {
     "data": {
      "text/html": [
       "<div>\n",
       "<style scoped>\n",
       "    .dataframe tbody tr th:only-of-type {\n",
       "        vertical-align: middle;\n",
       "    }\n",
       "\n",
       "    .dataframe tbody tr th {\n",
       "        vertical-align: top;\n",
       "    }\n",
       "\n",
       "    .dataframe thead th {\n",
       "        text-align: right;\n",
       "    }\n",
       "</style>\n",
       "<table border=\"1\" class=\"dataframe\">\n",
       "  <thead>\n",
       "    <tr style=\"text-align: right;\">\n",
       "      <th></th>\n",
       "      <th>0</th>\n",
       "      <th>1</th>\n",
       "      <th>2</th>\n",
       "      <th>3</th>\n",
       "      <th>4</th>\n",
       "      <th>5</th>\n",
       "      <th>6</th>\n",
       "      <th>9</th>\n",
       "      <th>10</th>\n",
       "      <th>11</th>\n",
       "      <th>...</th>\n",
       "      <th>1381</th>\n",
       "      <th>1384</th>\n",
       "      <th>1385</th>\n",
       "      <th>1387</th>\n",
       "      <th>1388</th>\n",
       "      <th>1392</th>\n",
       "      <th>1395</th>\n",
       "      <th>1416</th>\n",
       "      <th>1442</th>\n",
       "      <th>1444</th>\n",
       "    </tr>\n",
       "  </thead>\n",
       "  <tbody>\n",
       "    <tr>\n",
       "      <th>0</th>\n",
       "      <td>0.025691</td>\n",
       "      <td>-0.024908</td>\n",
       "      <td>-0.033537</td>\n",
       "      <td>-0.035607</td>\n",
       "      <td>-0.019997</td>\n",
       "      <td>0.013177</td>\n",
       "      <td>-0.043957</td>\n",
       "      <td>0.347849</td>\n",
       "      <td>0.115946</td>\n",
       "      <td>0.209061</td>\n",
       "      <td>...</td>\n",
       "      <td>0.010632</td>\n",
       "      <td>0.004750</td>\n",
       "      <td>0.020063</td>\n",
       "      <td>-0.040748</td>\n",
       "      <td>-0.002611</td>\n",
       "      <td>0.002127</td>\n",
       "      <td>-0.027562</td>\n",
       "      <td>-0.032200</td>\n",
       "      <td>0.004276</td>\n",
       "      <td>1.0</td>\n",
       "    </tr>\n",
       "    <tr>\n",
       "      <th>1</th>\n",
       "      <td>-0.027007</td>\n",
       "      <td>-0.010446</td>\n",
       "      <td>-0.018248</td>\n",
       "      <td>0.002833</td>\n",
       "      <td>-0.020734</td>\n",
       "      <td>0.010253</td>\n",
       "      <td>-0.005491</td>\n",
       "      <td>0.087276</td>\n",
       "      <td>0.024949</td>\n",
       "      <td>-0.015851</td>\n",
       "      <td>...</td>\n",
       "      <td>-0.031263</td>\n",
       "      <td>0.000018</td>\n",
       "      <td>-0.019607</td>\n",
       "      <td>-0.026758</td>\n",
       "      <td>-0.034573</td>\n",
       "      <td>0.052115</td>\n",
       "      <td>-0.019433</td>\n",
       "      <td>0.073518</td>\n",
       "      <td>0.008729</td>\n",
       "      <td>1.0</td>\n",
       "    </tr>\n",
       "    <tr>\n",
       "      <th>2</th>\n",
       "      <td>-0.030487</td>\n",
       "      <td>-0.036349</td>\n",
       "      <td>-0.050329</td>\n",
       "      <td>0.012338</td>\n",
       "      <td>-0.020423</td>\n",
       "      <td>-0.060544</td>\n",
       "      <td>-0.003565</td>\n",
       "      <td>0.513526</td>\n",
       "      <td>0.174092</td>\n",
       "      <td>0.247470</td>\n",
       "      <td>...</td>\n",
       "      <td>0.011423</td>\n",
       "      <td>-0.075074</td>\n",
       "      <td>-0.012292</td>\n",
       "      <td>-0.015024</td>\n",
       "      <td>-0.014462</td>\n",
       "      <td>0.004926</td>\n",
       "      <td>0.042514</td>\n",
       "      <td>0.069674</td>\n",
       "      <td>-0.024868</td>\n",
       "      <td>1.0</td>\n",
       "    </tr>\n",
       "    <tr>\n",
       "      <th>3</th>\n",
       "      <td>0.748007</td>\n",
       "      <td>0.052074</td>\n",
       "      <td>0.001560</td>\n",
       "      <td>0.219574</td>\n",
       "      <td>-0.554931</td>\n",
       "      <td>-0.049215</td>\n",
       "      <td>0.136267</td>\n",
       "      <td>-0.171225</td>\n",
       "      <td>0.225117</td>\n",
       "      <td>0.102913</td>\n",
       "      <td>...</td>\n",
       "      <td>-0.059506</td>\n",
       "      <td>0.062238</td>\n",
       "      <td>-0.005216</td>\n",
       "      <td>-0.020181</td>\n",
       "      <td>0.015555</td>\n",
       "      <td>-0.027637</td>\n",
       "      <td>0.031870</td>\n",
       "      <td>0.045878</td>\n",
       "      <td>-0.010686</td>\n",
       "      <td>1.0</td>\n",
       "    </tr>\n",
       "    <tr>\n",
       "      <th>4</th>\n",
       "      <td>-0.017514</td>\n",
       "      <td>-0.019153</td>\n",
       "      <td>-0.030974</td>\n",
       "      <td>0.002870</td>\n",
       "      <td>-0.008999</td>\n",
       "      <td>-0.039631</td>\n",
       "      <td>0.032425</td>\n",
       "      <td>-0.058960</td>\n",
       "      <td>0.003066</td>\n",
       "      <td>-0.023773</td>\n",
       "      <td>...</td>\n",
       "      <td>0.005979</td>\n",
       "      <td>0.010940</td>\n",
       "      <td>-0.011959</td>\n",
       "      <td>0.008695</td>\n",
       "      <td>-0.004352</td>\n",
       "      <td>0.014467</td>\n",
       "      <td>0.014946</td>\n",
       "      <td>0.001122</td>\n",
       "      <td>0.005700</td>\n",
       "      <td>1.0</td>\n",
       "    </tr>\n",
       "  </tbody>\n",
       "</table>\n",
       "<p>5 rows × 445 columns</p>\n",
       "</div>"
      ],
      "text/plain": [
       "       0         1         2         3         4         5         6     \\\n",
       "0  0.025691 -0.024908 -0.033537 -0.035607 -0.019997  0.013177 -0.043957   \n",
       "1 -0.027007 -0.010446 -0.018248  0.002833 -0.020734  0.010253 -0.005491   \n",
       "2 -0.030487 -0.036349 -0.050329  0.012338 -0.020423 -0.060544 -0.003565   \n",
       "3  0.748007  0.052074  0.001560  0.219574 -0.554931 -0.049215  0.136267   \n",
       "4 -0.017514 -0.019153 -0.030974  0.002870 -0.008999 -0.039631  0.032425   \n",
       "\n",
       "       9         10        11    ...      1381      1384      1385      1387  \\\n",
       "0  0.347849  0.115946  0.209061  ...  0.010632  0.004750  0.020063 -0.040748   \n",
       "1  0.087276  0.024949 -0.015851  ... -0.031263  0.000018 -0.019607 -0.026758   \n",
       "2  0.513526  0.174092  0.247470  ...  0.011423 -0.075074 -0.012292 -0.015024   \n",
       "3 -0.171225  0.225117  0.102913  ... -0.059506  0.062238 -0.005216 -0.020181   \n",
       "4 -0.058960  0.003066 -0.023773  ...  0.005979  0.010940 -0.011959  0.008695   \n",
       "\n",
       "       1388      1392      1395      1416      1442  1444  \n",
       "0 -0.002611  0.002127 -0.027562 -0.032200  0.004276   1.0  \n",
       "1 -0.034573  0.052115 -0.019433  0.073518  0.008729   1.0  \n",
       "2 -0.014462  0.004926  0.042514  0.069674 -0.024868   1.0  \n",
       "3  0.015555 -0.027637  0.031870  0.045878 -0.010686   1.0  \n",
       "4 -0.004352  0.014467  0.014946  0.001122  0.005700   1.0  \n",
       "\n",
       "[5 rows x 445 columns]"
      ]
     },
     "execution_count": 8,
     "metadata": {},
     "output_type": "execute_result"
    }
   ],
   "source": [
    "fisher_scores = fisher_score(dataPCA[:,0:-1], dataPCA[:,-1])\n",
    "qnt = 1000\n",
    "indices = []\n",
    "for i in range(qnt):\n",
    "    indice = np.argmin(fisher_scores)\n",
    "    fisher_scores[indice] = 10000\n",
    "    indices.append(indice)\n",
    "\n",
    "dataPCA = pd.DataFrame(dataPCA)\n",
    "data_fisher = dataPCA.drop([dataPCA.columns[i] for i in indices] ,  axis='columns')\n",
    "data_fisher.head()"
   ]
  },
  {
   "cell_type": "markdown",
   "metadata": {},
   "source": [
    "# 6. Avaliação de Métodos"
   ]
  },
  {
   "cell_type": "code",
   "execution_count": 3,
   "metadata": {},
   "outputs": [],
   "source": [
    "ids = data['id'].unique()\n",
    "x_train, x_test, y_train, y_test = train_testSplit(ids, data, 0.25)"
   ]
  },
  {
   "cell_type": "code",
   "execution_count": 4,
   "metadata": {},
   "outputs": [],
   "source": [
    "def acc(y_test, results):\n",
    "    tot = [1 for x,z in zip(y_test,results) if x == z]\n",
    "    return (np.sum(np.array(tot))/len(y_test))*100"
   ]
  },
  {
   "cell_type": "markdown",
   "metadata": {},
   "source": [
    "## 6.1 Regressão Logística"
   ]
  },
  {
   "cell_type": "code",
   "execution_count": 5,
   "metadata": {},
   "outputs": [
    {
     "name": "stdout",
     "output_type": "stream",
     "text": [
      "[Regressão Logística] Treinando modelo...\n",
      "[Regressão Logística] Testando modelo...\n",
      "[Regressão Logística] Score\n"
     ]
    },
    {
     "data": {
      "text/plain": [
       "74.60317460317461"
      ]
     },
     "execution_count": 5,
     "metadata": {},
     "output_type": "execute_result"
    }
   ],
   "source": [
    "y_predRL = predictRL(fitRL(x_train, y_train, 10000, 0.001, 0.1)[0], x_test)\n",
    "print(\"[Regressão Logística] Score\")\n",
    "acc(y_test, y_predRL)"
   ]
  },
  {
   "cell_type": "code",
   "execution_count": 6,
   "metadata": {},
   "outputs": [
    {
     "name": "stdout",
     "output_type": "stream",
     "text": [
      "              precision    recall  f1-score   support\n",
      "\n",
      "         0.0       0.00      0.00      0.00        48\n",
      "         1.0       0.75      1.00      0.85       141\n",
      "\n",
      "    accuracy                           0.75       189\n",
      "   macro avg       0.37      0.50      0.43       189\n",
      "weighted avg       0.56      0.75      0.64       189\n",
      "\n"
     ]
    }
   ],
   "source": [
    "print(classification_report(y_test, y_predRL))"
   ]
  },
  {
   "cell_type": "code",
   "execution_count": 7,
   "metadata": {},
   "outputs": [
    {
     "data": {
      "image/png": "[encoded data removed]",
      "text/plain": [
       "<Figure size 432x288 with 1 Axes>"
      ]
     },
     "metadata": {
      "needs_background": "light"
     },
     "output_type": "display_data"
    }
   ],
   "source": [
    "cm = confusion_matrix(y_test, y_predRL)\n",
    "\n",
    "fig, ax = plot_confusion_matrix(conf_mat=cm)\n",
    "plt.savefig('RegLog.png')\n",
    "plt.show()"
   ]
  },
  {
   "cell_type": "markdown",
   "metadata": {},
   "source": [
    "## 6.2. Análise Discriminante Gaussiano"
   ]
  },
  {
   "cell_type": "code",
   "execution_count": 8,
   "metadata": {},
   "outputs": [
    {
     "name": "stdout",
     "output_type": "stream",
     "text": [
      "[Análise Discriminante Gaussiano] Treinando modelo...\n",
      "[Análise Discriminante Gaussiano] Testando modelo...\n",
      "[Análise Discriminante Gaussiano] Score\n"
     ]
    },
    {
     "data": {
      "text/plain": [
       "25.396825396825395"
      ]
     },
     "execution_count": 8,
     "metadata": {},
     "output_type": "execute_result"
    }
   ],
   "source": [
    "y_predAGD = predictAGD(fitAGD(x_train, y_train), x_test)\n",
    "print(\"[Análise Discriminante Gaussiano] Score\")\n",
    "acc(y_test, y_predAGD)"
   ]
  },
  {
   "cell_type": "code",
   "execution_count": 9,
   "metadata": {},
   "outputs": [
    {
     "name": "stdout",
     "output_type": "stream",
     "text": [
      "              precision    recall  f1-score   support\n",
      "\n",
      "         0.0       0.25      1.00      0.41        48\n",
      "         1.0       0.00      0.00      0.00       141\n",
      "\n",
      "    accuracy                           0.25       189\n",
      "   macro avg       0.13      0.50      0.20       189\n",
      "weighted avg       0.06      0.25      0.10       189\n",
      "\n"
     ]
    }
   ],
   "source": [
    "print(classification_report(y_test, y_predAGD))"
   ]
  },
  {
   "cell_type": "code",
   "execution_count": 10,
   "metadata": {},
   "outputs": [
    {
     "data": {
      "image/png": "[encoded data removed]",
      "text/plain": [
       "<Figure size 432x288 with 1 Axes>"
      ]
     },
     "metadata": {
      "needs_background": "light"
     },
     "output_type": "display_data"
    }
   ],
   "source": [
    "cm = confusion_matrix(y_test, y_predAGD)\n",
    "\n",
    "fig, ax = plot_confusion_matrix(conf_mat=cm)\n",
    "plt.savefig('AGD.png')\n",
    "plt.show()"
   ]
  },
  {
   "cell_type": "markdown",
   "metadata": {},
   "source": [
    "## 6.3. Árvore de Decisão"
   ]
  },
  {
   "cell_type": "code",
   "execution_count": 11,
   "metadata": {},
   "outputs": [
    {
     "name": "stdout",
     "output_type": "stream",
     "text": [
      "[Árvore de Decisão] Selecionando hiperparâmetros...\n",
      "[Árvore de Decisão] Treinando modelo...\n",
      "[Árvore de Decisão] Hiperparâmetros escolhidos para Árvore de Decisão:  {'criterion': 'entropy', 'max_depth': 3}\n",
      "[Árvore de Decisão] Testando modelo...\n",
      "[Árvore de Decisão] Score\n"
     ]
    },
    {
     "data": {
      "text/plain": [
       "77.24867724867724"
      ]
     },
     "execution_count": 11,
     "metadata": {},
     "output_type": "execute_result"
    }
   ],
   "source": [
    "y_predAD = predictAD(fitAD(x_train, y_train, 'gini', 3), x_train, y_train, x_test)\n",
    "print(\"[Árvore de Decisão] Score\")\n",
    "acc(y_test, y_predAD)"
   ]
  },
  {
   "cell_type": "code",
   "execution_count": 12,
   "metadata": {},
   "outputs": [
    {
     "name": "stdout",
     "output_type": "stream",
     "text": [
      "              precision    recall  f1-score   support\n",
      "\n",
      "         0.0       0.61      0.29      0.39        48\n",
      "         1.0       0.80      0.94      0.86       141\n",
      "\n",
      "    accuracy                           0.77       189\n",
      "   macro avg       0.70      0.61      0.63       189\n",
      "weighted avg       0.75      0.77      0.74       189\n",
      "\n"
     ]
    }
   ],
   "source": [
    "print(classification_report(y_test, y_predAD))"
   ]
  },
  {
   "cell_type": "code",
   "execution_count": 13,
   "metadata": {},
   "outputs": [
    {
     "data": {
      "image/png": "[encoded data removed]",
      "text/plain": [
       "<Figure size 432x288 with 1 Axes>"
      ]
     },
     "metadata": {
      "needs_background": "light"
     },
     "output_type": "display_data"
    }
   ],
   "source": [
    "cm = confusion_matrix(y_test, y_predAD)\n",
    "\n",
    "fig, ax = plot_confusion_matrix(conf_mat=cm)\n",
    "plt.savefig('AD.png')\n",
    "plt.show()"
   ]
  },
  {
   "cell_type": "markdown",
   "metadata": {},
   "source": [
    "## 6.4. SVM"
   ]
  },
  {
   "cell_type": "code",
   "execution_count": null,
   "metadata": {},
   "outputs": [
    {
     "name": "stdout",
     "output_type": "stream",
     "text": [
      "[SVM] Selecionando hiperparâmetros...\n",
      "[SVM] Treinando modelo...\n"
     ]
    }
   ],
   "source": [
    "y_predSVM = predictSVM(fitSVM(x_train, y_train), x_train, y_train, x_test)\n",
    "print(\"[SVM] Score\")\n",
    "acc(y_test,y_predSVM)"
   ]
  },
  {
   "cell_type": "code",
   "execution_count": null,
   "metadata": {},
   "outputs": [],
   "source": [
    "print(classification_report(y_test, y_predSVM))"
   ]
  },
  {
   "cell_type": "code",
   "execution_count": null,
   "metadata": {},
   "outputs": [],
   "source": [
    "cm = confusion_matrix(y_test, y_predSVM)\n",
    "\n",
    "fig, ax = plot_confusion_matrix(conf_mat=cm)\n",
    "plt.savefig('SVM.png')\n",
    "plt.show()"
   ]
  },
  {
   "cell_type": "markdown",
   "metadata": {},
   "source": [
    "## 6.5. Random Forest"
   ]
  },
  {
   "cell_type": "code",
   "execution_count": null,
   "metadata": {},
   "outputs": [],
   "source": [
    "y_predRF = predictRF(fitRF(x_train, y_train), x_train, y_train, x_test)\n",
    "acc(y_test, y_predRF)"
   ]
  },
  {
   "cell_type": "code",
   "execution_count": null,
   "metadata": {},
   "outputs": [],
   "source": [
    "print(classification_report(y_test, y_predRF))"
   ]
  },
  {
   "cell_type": "code",
   "execution_count": null,
   "metadata": {},
   "outputs": [],
   "source": [
    "cm = confusion_matrix(y_test, y_predRF)\n",
    "\n",
    "fig, ax = plot_confusion_matrix(conf_mat=cm)\n",
    "plt.savefig('RF.png')\n",
    "plt.show()"
   ]
  },
  {
   "cell_type": "markdown",
   "metadata": {},
   "source": [
    "## 6.6. KNN"
   ]
  },
  {
   "cell_type": "code",
   "execution_count": null,
   "metadata": {
    "scrolled": false
   },
   "outputs": [],
   "source": [
    "y_predKNN = predictKNN(x_train, y_train, x_test, distance_euclidian)\n",
    "print(acc(y_test, y_predKNN))"
   ]
  },
  {
   "cell_type": "code",
   "execution_count": null,
   "metadata": {},
   "outputs": [],
   "source": [
    "cm = confusion_matrix(y_test, y_predKNN)\n",
    "\n",
    "fig, ax = plot_confusion_matrix(conf_mat=cm)\n",
    "plt.savefig('KNN.png')\n",
    "plt.show()"
   ]
  },
  {
   "cell_type": "markdown",
   "metadata": {},
   "source": [
    "## 6.7. Processo Gaussiano"
   ]
  },
  {
   "cell_type": "code",
   "execution_count": null,
   "metadata": {},
   "outputs": [],
   "source": [
    "y_predGP = predictGP(fitGP(x_train, y_train), x_train, y_train, x_test)\n",
    "print(acc(y_test, y_predGP))"
   ]
  },
  {
   "cell_type": "code",
   "execution_count": null,
   "metadata": {},
   "outputs": [],
   "source": [
    "cm = confusion_matrix(y_test, y_predGP)\n",
    "\n",
    "fig, ax = plot_confusion_matrix(conf_mat=cm)\n",
    "plt.savefig('GP.png')\n",
    "plt.show()"
   ]
  },
  {
   "cell_type": "code",
   "execution_count": null,
   "metadata": {},
   "outputs": [],
   "source": []
  }
 ],
 "metadata": {
  "kernelspec": {
   "display_name": "Python 3",
   "language": "python",
   "name": "python3"
  },
  "language_info": {
   "codemirror_mode": {
    "name": "ipython",
    "version": 3
   },
   "file_extension": ".py",
   "mimetype": "text/x-python",
   "name": "python",
   "nbconvert_exporter": "python",
   "pygments_lexer": "ipython3",
   "version": "3.7.4"
  }
 },
 "nbformat": 4,
 "nbformat_minor": 2
}
